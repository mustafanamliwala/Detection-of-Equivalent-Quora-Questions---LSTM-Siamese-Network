{
 "cells": [
  {
   "cell_type": "markdown",
   "metadata": {},
   "source": [
    "# Siamese LSTM"
   ]
  },
  {
   "cell_type": "markdown",
   "metadata": {},
   "source": [
    "This notebook serves as an example on how a Siamese LSTM Neural Network can be implemented to analyse semantic similarity."
   ]
  },
  {
   "cell_type": "code",
   "execution_count": 11,
   "metadata": {},
   "outputs": [],
   "source": [
    "import os\n",
    "import pandas as pd\n",
    "import numpy as np\n",
    "import wandb\n",
    "\n",
    "import torch\n",
    "import torch.nn as nn"
   ]
  },
  {
   "cell_type": "markdown",
   "metadata": {},
   "source": [
    "## NLP DATA PREPROCESSING"
   ]
  },
  {
   "cell_type": "code",
   "execution_count": 3,
   "metadata": {},
   "outputs": [],
   "source": [
    "import re\n",
    "import nltk \n",
    "from nltk.stem import WordNetLemmatizer, SnowballStemmer\n",
    "from nltk.corpus import stopwords\n",
    "\n",
    "def text_to_wordlist(text, remove_stopwords, stem_words):\n",
    "    \"\"\" \n",
    "    This function was adapoted from \n",
    "    https://www.kaggle.com/currie32/quora-question-pairs/the-importance-of-cleaning-text\n",
    "    \n",
    "    Description:\n",
    "        - Clean the text, with the option to remove stopwords and to stem words.\n",
    "        - Convert words to lower case and split them \n",
    "    \n",
    "    Params:\n",
    "    -------\n",
    "    text : str\n",
    "           question string \n",
    "    remove_stopwords : bool\n",
    "                       if True --> removes stopwords, if False --> does not remove stopwords \n",
    "    stem_words : bool\n",
    "                 if True --> stem stopwords, if False --> normal\n",
    "    \n",
    "    return:\n",
    "    -------\n",
    "    text : str\n",
    "           cleaned questing string \n",
    "    \"\"\"\n",
    "    text = text.lower().split()  # split tokenize sentence into words\n",
    "\n",
    "    # Optionally, remove stop words\n",
    "    if remove_stopwords:\n",
    "        stops = set(stopwords.words(\"english\"))\n",
    "        text = [w for w in text if not w in stops]\n",
    "    \n",
    "    text = \" \".join(text)\n",
    "\n",
    "    # Clean the text\n",
    "    text = re.sub(r\"[^A-Za-z0-9^,!.\\/'+-=]\", \" \", text)  # other than the mentioned things(^) will replaced by space\n",
    "    text = re.sub(r\"what's\", \"what is \", text)  # what's replaced by what is\n",
    "    text = re.sub(r\"\\'s\", \" \", text)\n",
    "    text = re.sub(r\"\\'ve\", \" have \", text)\n",
    "    text = re.sub(r\"can't\", \"cannot \", text)\n",
    "    text = re.sub(r\"n't\", \" not \", text)\n",
    "    text = re.sub(r\"i'm\", \"i am \", text)\n",
    "    text = re.sub(r\"\\'re\", \" are \", text)\n",
    "    text = re.sub(r\"\\'d\", \" would \", text)\n",
    "    text = re.sub(r\"\\'ll\", \" will \", text)\n",
    "    text = re.sub(r\",\", \" \", text)\n",
    "    text = re.sub(r\"\\.\", \" \", text)\n",
    "    text = re.sub(r\"!\", \" ! \", text)\n",
    "    text = re.sub(r\"\\/\", \" \", text)\n",
    "    text = re.sub(r\"\\^\", \" ^ \", text)\n",
    "    text = re.sub(r\"\\+\", \" + \", text)\n",
    "    text = re.sub(r\"\\-\", \" - \", text)\n",
    "    text = re.sub(r\"\\=\", \" = \", text)\n",
    "    text = re.sub(r\"'\", \" \", text)\n",
    "    text = re.sub(r\"(\\d+)(k)\", r\"\\g<1>000\", text)\n",
    "    text = re.sub(r\":\", \" : \", text)\n",
    "    text = re.sub(r\" e g \", \" eg \", text)\n",
    "    text = re.sub(r\" b g \", \" bg \", text)\n",
    "    text = re.sub(r\" u s \", \" american \", text)\n",
    "    text = re.sub(r\"\\0s\", \"0\", text)\n",
    "    text = re.sub(r\" 9 11 \", \"911\", text)\n",
    "    text = re.sub(r\"e - mail\", \"email\", text)\n",
    "    text = re.sub(r\"j k\", \"jk\", text)\n",
    "    text = re.sub(r\"\\s{2,}\", \" \", text)\n",
    "    \n",
    "    # Optionally, shorten words to their stems\n",
    "    if stem_words:\n",
    "        text = text.split()\n",
    "        stemer = SnowballStemmer('english')\n",
    "        stemmed_words = [stemmer.stem(word) for word in text]\n",
    "        text = \" \".join(stemmed_words)\n",
    "    \n",
    "    # Return a list of words\n",
    "    text = text.strip()\n",
    "    return text"
   ]
  },
  {
   "cell_type": "code",
   "execution_count": 4,
   "metadata": {},
   "outputs": [],
   "source": [
    "def convert_data_to_tuples(df, remove_stopwords, stem_words):\n",
    "    questions_pair = []\n",
    "    labels = []\n",
    "    for _, row in df.iterrows():\n",
    "\n",
    "        q1 = text_to_wordlist(str(row['question1']), remove_stopwords, stem_words)\n",
    "        q2 = text_to_wordlist(str(row['question2']), remove_stopwords, stem_words)\n",
    "        label = int(row['is_duplicate'])\n",
    "        if q1 and q2:\n",
    "            questions_pair.append((q1, q2))\n",
    "            labels.append(label)\n",
    "\n",
    "    print ('Question Pairs: ', len(questions_pair))\n",
    "    return questions_pair, labels"
   ]
  },
  {
   "cell_type": "code",
   "execution_count": 5,
   "metadata": {},
   "outputs": [],
   "source": [
    "class Language:\n",
    "    def __init__(self):\n",
    "        \"\"\" \n",
    "        Language class keeps track of the datasets vocabulary and creates \n",
    "        a words to index dictionary that will be required in the pytroch dataset\n",
    "        \"\"\"\n",
    "        self.word2index = {}  # sets index accodringly to unique ness - most common lower index e.g.1 \n",
    "        self.word2count = {}  # counts each unique word \n",
    "        self.index2word = {}  # reverse of word3index\n",
    "        self.n_words = 0\n",
    "\n",
    "    def addSentence(self, sentence):\n",
    "        for word in sentence.split(' '):\n",
    "            self.addWord(word)\n",
    "\n",
    "    def addWord(self, word):\n",
    "        if word not in self.word2index:\n",
    "            self.word2index[word] = self.n_words + 1\n",
    "            self.word2count[word] = 1\n",
    "            self.index2word[self.n_words + 1] = word\n",
    "            self.n_words += 1\n",
    "        else:\n",
    "            self.word2count[word] += 1"
   ]
  },
  {
   "cell_type": "markdown",
   "metadata": {},
   "source": [
    "## Pytorch Dataset"
   ]
  },
  {
   "cell_type": "code",
   "execution_count": 6,
   "metadata": {},
   "outputs": [],
   "source": [
    "from torch.utils.data import Dataset\n",
    "\n",
    "class QuoraDataset(Dataset):\n",
    "    def __init__(self, questions_list, word2index, labels):\n",
    "        \"\"\"\n",
    "        Params:\n",
    "        -------\n",
    "        questions_list : list\n",
    "                         list with tuples of all the questions pairs \n",
    "        \n",
    "        word2index : dict\n",
    "                     vocbulary of the dataset\n",
    "        labels : list \n",
    "                 list of the corrsponding labels to the question pairs \n",
    "        \n",
    "        \"\"\"\n",
    "        self.questions_list = questions_list\n",
    "        self.labels = labels\n",
    "        self.word2index = word2index\n",
    "        \n",
    "    def __len__(self):\n",
    "        return len(self.questions_list)\n",
    "    \n",
    "    def __getitem__(self, index):\n",
    "        questions_pair = self.questions_list[index]\n",
    "        q1 = questions_pair[0]\n",
    "        q1_indices = []\n",
    "        for word in q1.split():\n",
    "            q1_indices.append(self.word2index[word])\n",
    "            \n",
    "        q2 = questions_pair[1]\n",
    "        q2_indices = []\n",
    "        for word in q2.split():\n",
    "            q2_indices.append(self.word2index[word])\n",
    "            \n",
    "        # q1_indices and q2_indices are lists of indices against words used in the sentence \n",
    "        return {\n",
    "            'q1': q1,\n",
    "            'q2': q2,\n",
    "            'q1_token': q1_indices, \n",
    "            'q2_token': q2_indices, \n",
    "            'labels': self.labels[index], \n",
    "        }"
   ]
  },
  {
   "cell_type": "code",
   "execution_count": 7,
   "metadata": {},
   "outputs": [],
   "source": [
    "def collate(batch):\n",
    "    q1_text_list = []\n",
    "    q2_text_list = []\n",
    "    q1_list = []\n",
    "    q2_list = []\n",
    "    labels = []\n",
    "    for item in batch:\n",
    "        q1_text_list.append(item['q1'])\n",
    "        q2_text_list.append(item['q2'])\n",
    "        q1_list.append(item['q1_token'])\n",
    "        q2_list.append(item['q2_token'])\n",
    "        labels.append(item['labels'])\n",
    "          \n",
    "        \n",
    "    q1_lengths = [len(q) for q in q1_list]\n",
    "    q2_lengths = [len(q) for q in q2_list]\n",
    "    \n",
    "    return {\n",
    "        'q1_text': q1_text_list,\n",
    "        'q2_text': q2_text_list, \n",
    "        'q1_token': q1_list, \n",
    "        'q2_token': q2_list,\n",
    "        'q1_lengths': q1_lengths, \n",
    "        'q2_lengths': q2_lengths,\n",
    "        'labels': labels\n",
    "    }"
   ]
  },
  {
   "cell_type": "markdown",
   "metadata": {},
   "source": [
    "## Create pretrained weights for model initialization"
   ]
  },
  {
   "cell_type": "code",
   "execution_count": 8,
   "metadata": {},
   "outputs": [],
   "source": [
    "import gensim\n",
    "import gensim.downloader as api\n",
    "wv = api.load('word2vec-google-news-300')\n",
    "\n",
    "def create_pretrained_weights(embedding_dim, language):\n",
    "    \"\"\" Load pretrained weight and create pretrained weights for the embedding layer of the moel from pre-trained embbedings \"\"\"\n",
    "    n_words_vocab = len(language.word2index)\n",
    "    word2vec_model = wv\n",
    "    \n",
    "    # Convert word2vec embeddings into FloatTensor\n",
    "    word2vec_weights = torch.FloatTensor(word2vec_model.vectors)\n",
    "    \n",
    "    weights = torch.randn(n_words_vocab + 1, embedding_dim)\n",
    "    weights[0] = torch.zeros(embedding_dim)\n",
    "    for word, lang_word_index in language.word2index.items():\n",
    "        if word in word2vec_model:\n",
    "            weights[lang_word_index] = torch.FloatTensor(word2vec_model.word_vec(word))\n",
    "    \n",
    "    return weights"
   ]
  },
  {
   "cell_type": "code",
   "execution_count": 9,
   "metadata": {},
   "outputs": [],
   "source": [
    "import torch.nn as nn\n",
    "from torch.nn.modules import dropout\n",
    "from torch.nn.utils.rnn import pad_sequence, pad_packed_sequence, pack_padded_sequence\n",
    "import numpy as np\n",
    "\n",
    "class EmbeddingLSTMNet(nn.Module):\n",
    "    def __init__(\n",
    "            self,\n",
    "            embedding_dim,\n",
    "            hidden_cells,\n",
    "            num_layers, \n",
    "            embedding_rquires_grad,\n",
    "            pretrained_weights,\n",
    "            dropout,\n",
    "            simple,\n",
    "            ):\n",
    "        super(EmbeddingLSTMNet, self).__init__()\n",
    "        \"\"\" \n",
    "        LSTM Network and embeddings from pretrained weights\n",
    "        \n",
    "            - 1 lstm is enough since weights are shared\n",
    "        embedding_dim : int\n",
    "                        embedding dimnesion\n",
    "        hidden_cells : int \n",
    "                       number of hidden cells in LSTM\n",
    "        num_layers :  int\n",
    "                      number of layers\n",
    "        embedding_requires_grad : bool\n",
    "        pretrained_weights : torch.tensor\n",
    "                             pre-trained weights tensor \n",
    "        dropout : float\n",
    "                  indicates the dropout percentage\n",
    "        simple : bool\n",
    "                 selects the simplest model, only LSTM layer\n",
    "        \"\"\"\n",
    "        self.dropout = nn.Dropout(dropout)\n",
    "        self.lstm = nn.LSTM(\n",
    "            input_size=embedding_dim, \n",
    "            hidden_size=hidden_cells, \n",
    "            num_layers=num_layers, \n",
    "            batch_first=True\n",
    "        )\n",
    "        self.fc1 = nn.Linear(hidden_cells, hidden_cells)\n",
    "        self.fc = nn.Linear(hidden_cells, hidden_cells)\n",
    "        self.relu = nn.ReLU()\n",
    "        # initialize embeddings \n",
    "        self.embedding = nn.Embedding.from_pretrained(pretrained_weights)\n",
    "        self.embedding.weight.requires_grad = embedding_rquires_grad\n",
    "\n",
    "        # self.device = torch.device('cuda' if torch.cuda.is_available() else 'cpu')\n",
    "        self.device = 'cpu'\n",
    "        self.simple = simple\n",
    "\n",
    "    def forward(self, question, lengths):\n",
    "        \"\"\" \n",
    "        Params:\n",
    "        -------\n",
    "        question : (batch dim, sequence) # Question ke words ka index ek batch ka yaha 31 ka batch h\n",
    "                   i.e. [ [i1, i2, i3], -------- Q1[0]\n",
    "                          [j1, j2, j4, j5] ] --- Q1[1]\n",
    "        lenghts : list\n",
    "                  list all the lengths of each question  \n",
    "        \n",
    "        Return:\n",
    "        -------\n",
    "        result : torch.tensor\n",
    "                 output tesnor of of forward pass \n",
    "        \"\"\"\n",
    "        # Reverse the sequence lengths indices in decreasing order (pytorch requirement for pad and pack)\n",
    "        sorted_indices = np.flipud(np.argsort(lengths))\n",
    "        lengths = np.flipud(np.sort(lengths))\n",
    "        lengths = lengths.copy()\n",
    "        \n",
    "        # Reorder questions in the decreasing order of their lengths\n",
    "        ordered_questions = [torch.LongTensor(question[i]).to(self.device) for i in sorted_indices]\n",
    "        # Pad sequences with 0s to the max length sequence in the batch\n",
    "        ordered_questions = pad_sequence(ordered_questions, batch_first=True)\n",
    "        # Retrieve Embeddings\n",
    "        embeddings = self.embedding(ordered_questions).to(self.device)\n",
    "        \n",
    "        \n",
    "        # Model forward \n",
    "        embeddings = self.dropout(embeddings)\n",
    "        # Pack the padded sequences and pass it through LSTM\n",
    "        packed = pack_padded_sequence(embeddings, lengths, batch_first=True)   # Explained below\n",
    "        out, (hn, cn) = self.lstm(packed)\n",
    "        # Unpack the padded sequence and pass it through the linear layers \n",
    "        unpacked, unpacked_len = pad_packed_sequence(out, batch_first=True, total_length=int(lengths[0]))\n",
    "        \n",
    "        if self.simple == False:\n",
    "            out = self.fc1(unpacked)\n",
    "            out = self.relu(out)\n",
    "            out = self.fc(out)\n",
    "        else:\n",
    "            out = unpacked\n",
    "        \n",
    "        # Reorder the output to the original order in which the questions were passed\n",
    "        result = torch.FloatTensor(out.size())\n",
    "        for i, encoded_matrix in enumerate(out):\n",
    "            result[sorted_indices[i]] = encoded_matrix\n",
    "        return result"
   ]
  },
  {
   "cell_type": "code",
   "execution_count": 10,
   "metadata": {},
   "outputs": [],
   "source": [
    "class SiameseNetwork(nn.Module):\n",
    "    def __init__(self, embedding_lstm_net):\n",
    "        super(SiameseNetwork, self).__init__()\n",
    "        \"\"\"\n",
    "        Siamese LSTM Network \n",
    "\n",
    "        Params:\n",
    "        -------\n",
    "        embedding_lstm_net : nn.Module\n",
    "                             embedded LSTM Network \n",
    "        \"\"\"\n",
    "        self.embedding = embedding_lstm_net\n",
    "        \n",
    "        # self.device = torch.device('cuda' if torch.cuda.is_available() else 'cpu')\n",
    "        self.device = 'cpu'\n",
    "        \n",
    "    def forward(self, q1, q2, q1_lengths, q2_lengths):\n",
    "        \"\"\" Forward pass \n",
    "        Params:\n",
    "        -------\n",
    "        q1 : pad sequence tensor \n",
    "             question 1  \n",
    "        q2 : pad sequence tensor \n",
    "             question 2  \n",
    "        q1_lengths : torch.tensor\n",
    "                      original lengths of each question 1\n",
    "        q2_lengths : torch.tensor\n",
    "                      original lengths of each question 1\n",
    "        Returns:\n",
    "        --------\n",
    "        similarity_score : torch.tensor\n",
    "        \"\"\"\n",
    "        output_q1 = self.embedding(q1, q1_lengths)\n",
    "        output_q2 = self.embedding(q2, q2_lengths)\n",
    "        similarity_score = torch.zeros(output_q1.size()[0]).to(self.device)\n",
    "        # Calculate Similarity Score between both questions in a single pair\n",
    "        for index in range(output_q1.size()[0]):\n",
    "            # Sequence lenghts are being used to index and retrieve the activations before the zero padding since they were not part of original question\n",
    "            q1 = output_q1[index, q1_lengths[index] - 1, :]\n",
    "            q2 = output_q2[index, q2_lengths[index] - 1, :]\n",
    "            similarity_score[index] = self.manhattan_distance(q1, q2)\n",
    "        \n",
    "        return similarity_score\n",
    "    \n",
    "    def manhattan_distance(self, q1, q2):\n",
    "        \"\"\" Computes the Mannhatten distance between the two question tokens \"\"\"\n",
    "        return torch.exp(-torch.sum(torch.abs(q1 - q2), dim=0)).to(self.device)"
   ]
  },
  {
   "cell_type": "markdown",
   "metadata": {},
   "source": [
    "The expression output_q1[index, q1_lengths[index] - 1, :] is not slicing from that index to the end of the vector. Instead, it's selecting a specific row from a 3D tensor. Let's break down the expression for clarity:\n",
    "\n",
    "output_q1 is a 3D tensor, where its dimensions could be represented as [batch_size, sequence_length, embedding_dimension].\n",
    "index specifies which element in the batch we are considering.\n",
    "q1_lengths[index] - 1 specifies the index of the last non-padded word in the sequence for the index-th element in the batch. This is because q1_lengths[index] gives the length of the sequence, and subtracting 1 adjusts for 0-indexing.\n",
    ": specifies that we want all elements along the embedding dimension.\n",
    "So, output_q1[index, q1_lengths[index] - 1, :] is selecting the embedding of the last non-padded word for the index-th element in the batch. It's a vector, not a slice of vectors."
   ]
  },
  {
   "cell_type": "code",
   "execution_count": 12,
   "metadata": {},
   "outputs": [],
   "source": [
    "from typing import Coroutine\n",
    "from tqdm import tqdm\n",
    "import time \n",
    "import wandb\n",
    "\n",
    "from sklearn.metrics import f1_score, precision_score, recall_score, roc_curve, auc\n",
    "import matplotlib.pyplot as plt\n",
    "\n",
    "class ModelTrainer:\n",
    "    def __init__(self, model, hparams, train_dataloader, val_dataloader, \n",
    "        train_indices, val_indices, log_to_wandb, lr_scheduler_enabler=True):\n",
    "        \"\"\" \n",
    "        This Class fits the model \n",
    "\n",
    "        Params:\n",
    "        -------  \n",
    "        model : nn.Module\n",
    "                Pytorch NN Model that is spposed to be fitted/trained\n",
    "        hparams : dict\n",
    "                  Dictionary of Hyperparametes  \n",
    "        train_dataloader : torch.utils.data.DataLoader\n",
    "                           Training DataLoader\n",
    "        val_dataloader : torch.utils.data.DataLoader\n",
    "                         Validation DataLoader \n",
    "        train_indices : list \n",
    "                        list of the train indices\n",
    "        val_indices : list\n",
    "                      list of the val indices \n",
    "        lr_scheduler_enabler : bool\n",
    "                               if True enables Learning rate scheduler, if False disables it\n",
    "        \"\"\"\n",
    "        self.train_dataloader = train_dataloader\n",
    "        self.val_dataloader = val_dataloader\n",
    "        self.lr_scheduler_enabler = lr_scheduler_enabler\n",
    "        self.hparams = hparams \n",
    "        self.learning_rate = hparams['learning_rate']\n",
    "        self.epochs = hparams['epoch']\n",
    "        self.train_indices = train_indices\n",
    "        self.val_indices = val_indices\n",
    "        self.log_to_wandb = log_to_wandb\n",
    "\n",
    "        # self.device = torch.device('cuda' if torch.cuda.is_available() else 'cpu')\n",
    "        self.device = 'cpu'\n",
    "        if self.device == \"cuda\":\n",
    "            self.threshold = hparams['threshold'].to(self.device)\n",
    "        else:\n",
    "            self.threshold = hparams['threshold'].to(self.device)\n",
    "\n",
    "        self.model = model\n",
    "        self.optimizer = self.optimization()\n",
    "        self.loss_fn = self.loss()\n",
    "        self.lr_scheduler = self.learning_rate_scheduler() \n",
    "\n",
    "        self.data = dict()\n",
    "        self.data[\"train_loss\"] = list()\n",
    "        self.data[\"train_acc\"] = list()\n",
    "        self.data[\"val_loss\"] = list()\n",
    "        self.data[\"val_acc\"] = list()\n",
    "\n",
    "        if self.log_to_wandb:\n",
    "            self.init_wandb()\n",
    "\n",
    "\n",
    "    def train_epoch(self, epoch):\n",
    "        \"\"\" Trains an epoch \"\"\"\n",
    "        self.model.train()\n",
    "\n",
    "        loss_history = []\n",
    "        correct_total = 0\n",
    "        with tqdm(self.train_dataloader, unit=\"batch\") as tepoch:\n",
    "            for i, batch in enumerate(tepoch):\n",
    "                tepoch.set_description(f\"Epoch [{epoch+1}/{self.epochs}]  Training\")\n",
    "                if self.device == \"cuda\":\n",
    "                    q1, q2 = batch['q1_token'].to(self.device), batch['q2_token'].to(self.device)\n",
    "                    q1_len, q2_len = batch['q1_lengths'].to(self.device), batch['q2_lengths'].to(self.device)\n",
    "                    y = torch.FloatTensor(batch['labels']).to(self.device)\n",
    "                else:\n",
    "                    q1, q2 = batch['q1_token'], batch['q2_token']\n",
    "                    q1_len, q2_len = batch['q1_lengths'], batch['q2_lengths']\n",
    "                    y = torch.FloatTensor(batch['labels'])\n",
    "                \n",
    "                # Reset the gardients \n",
    "                self.optimizer.zero_grad()\n",
    "\n",
    "                # Model forward and predictions\n",
    "                similarity = self.model(q1, q2, q1_len, q2_len)\n",
    "                y_pred = (similarity > self.threshold).float() * 1\n",
    "                correct = self.inferece(y_pred, y)\n",
    "                correct_total += correct\n",
    "\n",
    "                # Calculate the loss \n",
    "                loss = self.loss_fn(similarity, y)\n",
    "                loss_history.append(loss.item())\n",
    "\n",
    "                # Calculate gradients by performign the backward pass\n",
    "                loss.backward()\n",
    "                \n",
    "                # Update weights\n",
    "                self.optimizer.step()\n",
    "\n",
    "                if i % 100 == 0:\n",
    "                    tepoch.set_postfix(train_loss=np.mean(loss_history), train_acc=f'{(correct/y.size()[0])*100} %' )\n",
    "            \n",
    "            # Enable learning rate scheduler  \n",
    "            if self.lr_scheduler_enabler:\n",
    "                self.lr_scheduler.step()\n",
    "\n",
    "        return  np.mean(loss_history), (correct_total/len(self.train_indices))*100\n",
    "\n",
    "    def evaluate(self):\n",
    "        \"\"\" Validates an epoch \"\"\"\n",
    "        self.model.eval()\n",
    "\n",
    "        loss_history = []\n",
    "        correct_total = 0\n",
    "        with torch.no_grad():\n",
    "            for i, batch in enumerate(self.val_dataloader):\n",
    "                if self.device == \"cuda\":\n",
    "                    q1, q2 = batch['q1_token'].to(self.device), batch['q2_token'].to(self.device)\n",
    "                    q1_len, q2_len = batch['q1_lengths'].to(self.device), batch['q2_lengths'].to(self.device)\n",
    "                    y = torch.FloatTensor(batch['labels']).to(self.device)\n",
    "                else:\n",
    "                    q1, q2 = batch['q1_token'], batch['q2_token']\n",
    "                    q1_len, q2_len = batch['q1_lengths'], batch['q2_lengths']\n",
    "                    y = torch.FloatTensor(batch['labels'])\n",
    "\n",
    "                # Model forward and predictions\n",
    "                similarity = self.model(q1, q2, q1_len, q2_len)\n",
    "                y_pred = (similarity > self.threshold).float() * 1\n",
    "                correct = self.inferece(y_pred, y)\n",
    "                correct_total += correct\n",
    "\n",
    "                # Calculate the loss \n",
    "                loss = self.loss_fn(similarity, y)\n",
    "                loss_history.append(loss.item())\n",
    "\n",
    "        avg_val_acc =  correct_total/len(self.val_indices) * 100 \n",
    "        return np.mean(loss_history), avg_val_acc\n",
    "    \n",
    "    def inferece(self, y_pred, y):\n",
    "        \"\"\" Performs inference \"\"\"\n",
    "        return (y_pred == y).sum().item()\n",
    "\n",
    "    def fit(self):\n",
    "        \"\"\" Fits the model \"\"\"\n",
    "        train_loss = 0\n",
    "        val_loss = 0\n",
    "        val_acc = 0\n",
    "        for e in range(self.epochs):\n",
    "            train_loss, train_acc = self.train_epoch(e)\n",
    "            val_loss, val_acc = self.evaluate()\n",
    "            print(f'Epoch [{e+1}/{self.epochs}] Validation: val_loss: {val_loss} val_acc: {val_acc} %')\n",
    "            \n",
    "            self.data[\"train_loss\"].append(train_loss)\n",
    "            self.data[\"train_acc\"].append(train_acc)\n",
    "            self.data[\"val_loss\"].append(val_loss)\n",
    "            self.data[\"val_acc\"].append(val_acc)\n",
    "\n",
    "            if self.log_to_wandb:\n",
    "                self.log_metrics_to_wandb(train_loss, train_acc, val_loss, val_acc)\n",
    "            time.sleep(0.5)\n",
    "\n",
    "        if self.log_to_wandb:\n",
    "            wandb.finish()\n",
    "\n",
    "    def test(self):\n",
    "        \"\"\" Tests the model \"\"\"\n",
    "        self.model.eval()\n",
    "\n",
    "        predictions = []\n",
    "        labels_list = []\n",
    "        loss_history = []\n",
    "        correct_total = 0\n",
    "        with torch.no_grad():\n",
    "            for i, batch in enumerate(self.val_dataloader):\n",
    "                if self.device == \"cuda\":\n",
    "                    q1, q2 = batch['q1_token'].to(self.device), batch['q2_token'].to(self.device)\n",
    "                    q1_len, q2_len = batch['q1_lengths'].to(self.device), batch['q2_lengths'].to(self.device)\n",
    "                    y = torch.FloatTensor(batch['labels']).to(self.device)\n",
    "                else:\n",
    "                    q1, q2 = batch['q1_token'], batch['q2_token']\n",
    "                    q1_len, q2_len = batch['q1_lengths'], batch['q2_lengths']\n",
    "                    y = torch.FloatTensor(batch['labels'])\n",
    "\n",
    "                # Model forward and predictions\n",
    "                similarity = self.model(q1, q2, q1_len, q2_len)\n",
    "                y_pred = (similarity > self.threshold).float() * 1\n",
    "                predictions.append(y_pred), labels_list.append(y)\n",
    "                correct = self.inferece(y_pred, y)\n",
    "                correct_total += correct\n",
    "\n",
    "                # Calculate the loss \n",
    "                loss = self.loss_fn(similarity, y)\n",
    "                loss_history.append(loss.item())\n",
    "        \n",
    "        # Calculate the accuracy\n",
    "        avg_val_acc =  correct_total/len(self.val_indices) * 100 \n",
    "        print('- - - Model Performance - - -')\n",
    "        print(f'\\nModel Accuracy:  {avg_val_acc}')\n",
    "        print(f'Correct predictions: {correct_total}, Incorret predictions: {len(self.val_indices) - correct_total}')\n",
    "        print('')\n",
    "        cm = plotConfusionMatrix(np.hstack(predictions), np.hstack(labels_list),['similar', 'dissimilar'], title=\"Confusion Matrix Plot of Test Set\")\n",
    "        print(f'TP: {cm[0,0]}')\n",
    "        print(f'FP: {cm[1,0]}')\n",
    "        print(f'FN: {cm[0,1]}')\n",
    "        print(f'TN: {cm[1,1]}')\n",
    "        print(f'\\nPrecision Score: {precision_score(np.hstack(predictions), np.hstack(labels_list))}')\n",
    "        print(f'Recall Score: {recall_score(np.hstack(predictions), np.hstack(labels_list))}')\n",
    "        print(f'F1 Score: {f1_score(np.hstack(predictions), np.hstack(labels_list))}')\n",
    "\n",
    "        # adopted from https://www.codegrepper.com/code-examples/python/roc+curve+pytorch\n",
    "        fpr, tpr, threshold = roc_curve(np.hstack(predictions), np.hstack(labels_list))\n",
    "        roc_auc = auc(fpr, tpr)\n",
    "        plt.title('Receiver Operating Characteristic (ROC)')\n",
    "        plt.plot(fpr, tpr, 'b', label = 'AUC = %0.2f' % roc_auc)\n",
    "        plt.legend(loc = 'lower right')\n",
    "        plt.plot([0, 1], [0, 1],'r--')\n",
    "        plt.xlim([0, 1])\n",
    "        plt.ylim([0, 1])\n",
    "        plt.ylabel('True Positive Rate')\n",
    "        plt.xlabel('False Positive Rate')\n",
    "        plt.grid()\n",
    "        plt.show()\n",
    "        # adopted from https://www.codegrepper.com/code-examples/python/roc+curve+pytorch\n",
    "\n",
    "    def predict(self, test_sample_dict):\n",
    "        \"\"\" Uses the model to predict the similarity of a given input pair of questions\"\"\"\n",
    "        self.model.eval()\n",
    "        \n",
    "        print('question 1:', test_sample_dict['q1_text'])\n",
    "        print('question 2:', test_sample_dict['q2_text'])\n",
    "        print('tokens  q1:', test_sample_dict['q1_token'])\n",
    "        print('tokens  q2:', test_sample_dict['q2_token'])\n",
    "\n",
    "        q1, q2 = test_sample_dict['q1_token'], test_sample_dict['q2_token']\n",
    "        q1_len, q2_len = test_sample_dict['q1_lengths'], test_sample_dict['q2_lengths']\n",
    "        y = torch.FloatTensor(test_sample_dict['labels'])\n",
    "        \n",
    "        # Model forward and predictions\n",
    "        similarity = self.model(q1, q2, q1_len, q2_len)\n",
    "        y_pred = (similarity > self.threshold).float() * 1\n",
    "        \n",
    "        print(f'\\n\\nModel predicts {y_pred.item()} --> Actual value {y.item()}')\n",
    "        if y_pred.item() == y.item():\n",
    "            print(f'Model prediction is correct :)')\n",
    "\n",
    "            if y_pred.item() == 1.0:\n",
    "                print(f'\\nThe questions {test_sample_dict[\"q1_text\"]} and {test_sample_dict[\"q2_text\"]} are similar!')\n",
    "            else:\n",
    "                print(f'\\nThe questions {test_sample_dict[\"q1_text\"]} and {test_sample_dict[\"q2_text\"]} are dissimilar!')    \n",
    "        else:\n",
    "            print(f'Model prediction is inaccurate :(')\n",
    "            if y_pred.item() == 1.0:\n",
    "                print(f'\\nThe questions {test_sample_dict[\"q1_text\"]} and {test_sample_dict[\"q2_text\"]} should be dissimilar!')\n",
    "            else:\n",
    "                print(f'\\nThe questions {test_sample_dict[\"q1_text\"]} and {test_sample_dict[\"q2_text\"]} should be similar!')  \n",
    "        \n",
    "    def optimization(self):\n",
    "        \"\"\" Initializes the optimizer \"\"\"\n",
    "        return torch.optim.Adam(self.model.parameters(), lr=self.learning_rate)\n",
    "    \n",
    "    def learning_rate_scheduler(self):\n",
    "        \"\"\" Initializes the learning rate scheduler \"\"\"\n",
    "        return torch.optim.lr_scheduler.ExponentialLR(self.optimizer, gamma=0.9)\n",
    "\n",
    "    def loss(self):\n",
    "        \"\"\" Initializes the loss \"\"\"\n",
    "        return nn.MSELoss() #nn.CrossEntropyLoss()\n",
    "    \n",
    "    def return_data(self):\n",
    "        \"\"\" Output the data \"\"\"\n",
    "        return self.data\n",
    "\n",
    "    def init_wandb(self):\n",
    "        \"\"\" init weight & biases \"\"\"\n",
    "        # capture hyperparameters\n",
    "        config = self.hparams\n",
    "        # initialize wandb\n",
    "        wandb.init(project=\"Siamese_LSTM\", entity=\"maxifor\", config=config)\n",
    "\n",
    "    def log_metrics_to_wandb(self, train_loss, train_acc, val_loss, val_acc):\n",
    "        \"\"\" log metric to weights and biases \"\"\"\n",
    "        wandb.log({\"train_loss\": train_loss,})\n",
    "        wandb.log({\"train_acc\": train_acc,})\n",
    "        wandb.log({\"val_loss\": val_loss,})\n",
    "        wandb.log({\"val_acc\": val_acc,})"
   ]
  },
  {
   "cell_type": "code",
   "execution_count": 13,
   "metadata": {},
   "outputs": [],
   "source": [
    "def save_model(model, path):\n",
    "    \"\"\" Saves a pytorch model locally \"\"\"\n",
    "    return torch.save(model.state_dict(), path)\n",
    "\n",
    "def load_model(model, path):\n",
    "    \"\"\" Loads a model locally \"\"\"\n",
    "    m = model(n_classes=10)\n",
    "    # load the state dict and pass it to the load_state_dict function\n",
    "    return m.load_state_dict(torch.load(\"./model.pt\"))"
   ]
  },
  {
   "cell_type": "code",
   "execution_count": 14,
   "metadata": {},
   "outputs": [],
   "source": [
    "import matplotlib.pyplot as plt\n",
    "from sklearn.metrics import confusion_matrix\n",
    "import seaborn as sns\n",
    "\n",
    "def plotConfusionMatrix(y, y_pred, classes, title=None):\n",
    "    \"\"\" Plots a confusion matrix \"\"\"\n",
    "    cm = confusion_matrix(y, y_pred)\n",
    "    ax = sns.heatmap(cm, xticklabels=classes, yticklabels=classes, annot=True, fmt='0.2g', cmap=plt.cm.Blues)\n",
    "    bottom, top = ax.get_ylim()\n",
    "    ax.set_ylim(bottom + 0.5, top - 0.5)\n",
    "    if title:\n",
    "        ax.set_title(title)\n",
    "    ax.set_xlabel('Predictions')\n",
    "    ax.set_ylabel('Test Set')\n",
    "    plt.show()\n",
    "\n",
    "    return cm"
   ]
  },
  {
   "cell_type": "markdown",
   "metadata": {},
   "source": [
    "#### Set Global Varibles and Paths "
   ]
  },
  {
   "cell_type": "code",
   "execution_count": 15,
   "metadata": {},
   "outputs": [],
   "source": [
    "# Root and directory paths \n",
    "ROOT_PATH = os.getcwd()\n",
    "DATA_FOLDER_PATH = ROOT_PATH + '/data'\n",
    "MODEL_FOLDER_PATH = ROOT_PATH \n",
    "# important paths \n",
    "DATASET_FILE_PATH = DATA_FOLDER_PATH + '/mini_quora_dataset_30_50_50k.csv'\n",
    "\n",
    "# general variables\n",
    "EMBEDDING_REQUIRES_GRAD = False\n",
    "NUM_LAYERS = 1"
   ]
  },
  {
   "cell_type": "markdown",
   "metadata": {},
   "source": [
    "#### Hyperparameters "
   ]
  },
  {
   "cell_type": "code",
   "execution_count": 16,
   "metadata": {},
   "outputs": [],
   "source": [
    "# Hyperparameters - adjust them to optimize model perfromance\n",
    "\n",
    "hparams = {\n",
    "    'threshold':        torch.Tensor([0.5]),  # Threshold for determining similarity\n",
    "    'learning_rate':    1e-03,                # Learning rate\n",
    "    'epoch':            20,                   # Number of epochs\n",
    "    'batch_size':       32,                   # Batch size\n",
    "    'hidden_dim':       100,                  # Number of hidden dimensions\n",
    "    'embedding_dim':    300,                  # Number of embedding dimensions\n",
    "    'dropout':          0.0,                  # Dropout\n",
    "    'remove_stopwords': False,                # Removes stopwords\n",
    "    'stem_words':       False,                # Remove stem words\n",
    "    'simple':           True,                 # Chooses simple or more complex model\n",
    "    'log_to_wandb':     False,                # Chooses to log to wandb or not\n",
    "}"
   ]
  },
  {
   "cell_type": "markdown",
   "metadata": {},
   "source": [
    "## Prepare the Dataset\n",
    "\n",
    "#### Load the data"
   ]
  },
  {
   "cell_type": "code",
   "execution_count": 17,
   "metadata": {},
   "outputs": [],
   "source": [
    "df = pd.read_csv(DATASET_FILE_PATH)"
   ]
  },
  {
   "cell_type": "markdown",
   "metadata": {},
   "source": [
    "#### Select question pair and labels and prepare the data "
   ]
  },
  {
   "cell_type": "code",
   "execution_count": 18,
   "metadata": {},
   "outputs": [
    {
     "data": {
      "text/html": [
       "<div>\n",
       "<style scoped>\n",
       "    .dataframe tbody tr th:only-of-type {\n",
       "        vertical-align: middle;\n",
       "    }\n",
       "\n",
       "    .dataframe tbody tr th {\n",
       "        vertical-align: top;\n",
       "    }\n",
       "\n",
       "    .dataframe thead th {\n",
       "        text-align: right;\n",
       "    }\n",
       "</style>\n",
       "<table border=\"1\" class=\"dataframe\">\n",
       "  <thead>\n",
       "    <tr style=\"text-align: right;\">\n",
       "      <th></th>\n",
       "      <th>id</th>\n",
       "      <th>qid1</th>\n",
       "      <th>qid2</th>\n",
       "      <th>question1</th>\n",
       "      <th>question2</th>\n",
       "      <th>is_duplicate</th>\n",
       "      <th>max_length</th>\n",
       "    </tr>\n",
       "  </thead>\n",
       "  <tbody>\n",
       "    <tr>\n",
       "      <th>0</th>\n",
       "      <td>307549</td>\n",
       "      <td>603786</td>\n",
       "      <td>603787</td>\n",
       "      <td>What are some different ways to make money fast?</td>\n",
       "      <td>What are fast ways to make money?</td>\n",
       "      <td>1</td>\n",
       "      <td>48</td>\n",
       "    </tr>\n",
       "    <tr>\n",
       "      <th>1</th>\n",
       "      <td>221916</td>\n",
       "      <td>437426</td>\n",
       "      <td>437427</td>\n",
       "      <td>How can I continue to improve my English?</td>\n",
       "      <td>How can I understand english?</td>\n",
       "      <td>1</td>\n",
       "      <td>41</td>\n",
       "    </tr>\n",
       "    <tr>\n",
       "      <th>2</th>\n",
       "      <td>177830</td>\n",
       "      <td>351280</td>\n",
       "      <td>351281</td>\n",
       "      <td>How do I promote my youtube videos?</td>\n",
       "      <td>What is the best way to promote YouTube videos?</td>\n",
       "      <td>1</td>\n",
       "      <td>47</td>\n",
       "    </tr>\n",
       "    <tr>\n",
       "      <th>3</th>\n",
       "      <td>128018</td>\n",
       "      <td>253605</td>\n",
       "      <td>253606</td>\n",
       "      <td>How can I organize a Quora Meetup in Pune?</td>\n",
       "      <td>Is there a Pune Quora Meetup group?</td>\n",
       "      <td>0</td>\n",
       "      <td>42</td>\n",
       "    </tr>\n",
       "    <tr>\n",
       "      <th>4</th>\n",
       "      <td>177761</td>\n",
       "      <td>351144</td>\n",
       "      <td>351145</td>\n",
       "      <td>What is the most badass moment of Game of Thro...</td>\n",
       "      <td>Who will die in season 5 of Game of Thrones?</td>\n",
       "      <td>0</td>\n",
       "      <td>50</td>\n",
       "    </tr>\n",
       "    <tr>\n",
       "      <th>...</th>\n",
       "      <td>...</td>\n",
       "      <td>...</td>\n",
       "      <td>...</td>\n",
       "      <td>...</td>\n",
       "      <td>...</td>\n",
       "      <td>...</td>\n",
       "      <td>...</td>\n",
       "    </tr>\n",
       "    <tr>\n",
       "      <th>49995</th>\n",
       "      <td>95213</td>\n",
       "      <td>189005</td>\n",
       "      <td>189006</td>\n",
       "      <td>How does drop shipping work exactly?</td>\n",
       "      <td>What is drop shipping and how does it work?</td>\n",
       "      <td>1</td>\n",
       "      <td>43</td>\n",
       "    </tr>\n",
       "    <tr>\n",
       "      <th>49996</th>\n",
       "      <td>62682</td>\n",
       "      <td>124658</td>\n",
       "      <td>124659</td>\n",
       "      <td>What are the best movies to watch in Hollywood?</td>\n",
       "      <td>Which are the best Hollywood movies of all time?</td>\n",
       "      <td>1</td>\n",
       "      <td>48</td>\n",
       "    </tr>\n",
       "    <tr>\n",
       "      <th>49997</th>\n",
       "      <td>109939</td>\n",
       "      <td>218008</td>\n",
       "      <td>218009</td>\n",
       "      <td>Am I a sociopath, schizoid, or neither?</td>\n",
       "      <td>Am I a sociopath?</td>\n",
       "      <td>0</td>\n",
       "      <td>39</td>\n",
       "    </tr>\n",
       "    <tr>\n",
       "      <th>49998</th>\n",
       "      <td>370854</td>\n",
       "      <td>725712</td>\n",
       "      <td>725713</td>\n",
       "      <td>What is your marketing strategy?</td>\n",
       "      <td>What is a market strategy?</td>\n",
       "      <td>0</td>\n",
       "      <td>32</td>\n",
       "    </tr>\n",
       "    <tr>\n",
       "      <th>49999</th>\n",
       "      <td>268327</td>\n",
       "      <td>527813</td>\n",
       "      <td>527814</td>\n",
       "      <td>What will be the qualifying marks for neet 2016?</td>\n",
       "      <td>What might be the qualifing mark in neet 2016?</td>\n",
       "      <td>1</td>\n",
       "      <td>48</td>\n",
       "    </tr>\n",
       "  </tbody>\n",
       "</table>\n",
       "<p>50000 rows × 7 columns</p>\n",
       "</div>"
      ],
      "text/plain": [
       "           id    qid1    qid2  \\\n",
       "0      307549  603786  603787   \n",
       "1      221916  437426  437427   \n",
       "2      177830  351280  351281   \n",
       "3      128018  253605  253606   \n",
       "4      177761  351144  351145   \n",
       "...       ...     ...     ...   \n",
       "49995   95213  189005  189006   \n",
       "49996   62682  124658  124659   \n",
       "49997  109939  218008  218009   \n",
       "49998  370854  725712  725713   \n",
       "49999  268327  527813  527814   \n",
       "\n",
       "                                               question1  \\\n",
       "0       What are some different ways to make money fast?   \n",
       "1              How can I continue to improve my English?   \n",
       "2                    How do I promote my youtube videos?   \n",
       "3             How can I organize a Quora Meetup in Pune?   \n",
       "4      What is the most badass moment of Game of Thro...   \n",
       "...                                                  ...   \n",
       "49995               How does drop shipping work exactly?   \n",
       "49996    What are the best movies to watch in Hollywood?   \n",
       "49997            Am I a sociopath, schizoid, or neither?   \n",
       "49998                   What is your marketing strategy?   \n",
       "49999   What will be the qualifying marks for neet 2016?   \n",
       "\n",
       "                                              question2  is_duplicate  \\\n",
       "0                     What are fast ways to make money?             1   \n",
       "1                         How can I understand english?             1   \n",
       "2       What is the best way to promote YouTube videos?             1   \n",
       "3                   Is there a Pune Quora Meetup group?             0   \n",
       "4          Who will die in season 5 of Game of Thrones?             0   \n",
       "...                                                 ...           ...   \n",
       "49995       What is drop shipping and how does it work?             1   \n",
       "49996  Which are the best Hollywood movies of all time?             1   \n",
       "49997                                 Am I a sociopath?             0   \n",
       "49998                        What is a market strategy?             0   \n",
       "49999    What might be the qualifing mark in neet 2016?             1   \n",
       "\n",
       "       max_length  \n",
       "0              48  \n",
       "1              41  \n",
       "2              47  \n",
       "3              42  \n",
       "4              50  \n",
       "...           ...  \n",
       "49995          43  \n",
       "49996          48  \n",
       "49997          39  \n",
       "49998          32  \n",
       "49999          48  \n",
       "\n",
       "[50000 rows x 7 columns]"
      ]
     },
     "execution_count": 18,
     "metadata": {},
     "output_type": "execute_result"
    }
   ],
   "source": [
    "df"
   ]
  },
  {
   "cell_type": "code",
   "execution_count": 19,
   "metadata": {},
   "outputs": [
    {
     "name": "stdout",
     "output_type": "stream",
     "text": [
      "Question Pairs:  49999\n"
     ]
    }
   ],
   "source": [
    "q_pair, labels = convert_data_to_tuples(df, hparams['remove_stopwords'], hparams['stem_words'])"
   ]
  },
  {
   "cell_type": "code",
   "execution_count": 20,
   "metadata": {},
   "outputs": [
    {
     "data": {
      "text/plain": [
       "tuple"
      ]
     },
     "execution_count": 20,
     "metadata": {},
     "output_type": "execute_result"
    }
   ],
   "source": [
    "type(q_pair[0])"
   ]
  },
  {
   "cell_type": "markdown",
   "metadata": {},
   "source": [
    "#### Create a Language"
   ]
  },
  {
   "cell_type": "code",
   "execution_count": 21,
   "metadata": {},
   "outputs": [],
   "source": [
    "language = Language()\n",
    "for data in [q_pair]:\n",
    "    for question_pair in data:\n",
    "        q1 = question_pair[0]\n",
    "        q2 = question_pair[1]\n",
    "        language.addSentence(q1)\n",
    "        language.addSentence(q2)"
   ]
  },
  {
   "cell_type": "code",
   "execution_count": 22,
   "metadata": {
    "scrolled": true
   },
   "outputs": [],
   "source": [
    "# language.word2index"
   ]
  },
  {
   "cell_type": "markdown",
   "metadata": {},
   "source": [
    "# Vocabulary size = 23019"
   ]
  },
  {
   "cell_type": "markdown",
   "metadata": {},
   "source": [
    "### Create the PyTorch Dataset"
   ]
  },
  {
   "cell_type": "code",
   "execution_count": 23,
   "metadata": {},
   "outputs": [
    {
     "data": {
      "text/plain": [
       "{'q1': 'what are some different ways to make money fast',\n",
       " 'q2': 'what are fast ways to make money',\n",
       " 'q1_token': [1, 2, 3, 4, 5, 6, 7, 8, 9],\n",
       " 'q2_token': [1, 2, 9, 5, 6, 7, 8],\n",
       " 'labels': 1}"
      ]
     },
     "execution_count": 23,
     "metadata": {},
     "output_type": "execute_result"
    }
   ],
   "source": [
    "quora_dataset = QuoraDataset(q_pair, language.word2index, labels)\n",
    "quora_dataset[0]"
   ]
  },
  {
   "cell_type": "code",
   "execution_count": 24,
   "metadata": {},
   "outputs": [
    {
     "name": "stdout",
     "output_type": "stream",
     "text": [
      "question 1: what are some different ways to make money fast\n",
      "question 2: what are fast ways to make money\n",
      "tokens  q1: [1, 2, 3, 4, 5, 6, 7, 8, 9]\n",
      "tokens  q2: [1, 2, 9, 5, 6, 7, 8]\n",
      "labels    : 1\n"
     ]
    }
   ],
   "source": [
    "# example output\n",
    "\n",
    "for sample in quora_dataset:\n",
    "    print('question 1:', sample['q1'])\n",
    "    print('question 2:', sample['q2'])\n",
    "    print('tokens  q1:', sample['q1_token'])\n",
    "    print('tokens  q2:', sample['q2_token'])\n",
    "    print('labels    :', sample['labels'])\n",
    "    break"
   ]
  },
  {
   "cell_type": "markdown",
   "metadata": {},
   "source": [
    "### DataLoader"
   ]
  },
  {
   "cell_type": "code",
   "execution_count": 25,
   "metadata": {},
   "outputs": [
    {
     "name": "stdout",
     "output_type": "stream",
     "text": [
      "Training Set Size 39999, Validation Set Size 10000,\n"
     ]
    }
   ],
   "source": [
    "from torch.utils.data import DataLoader, SubsetRandomSampler\n",
    "\n",
    "train_split = 0.8\n",
    "val_split = 0.2\n",
    "\n",
    "dataset_size = len(quora_dataset)\n",
    "indices = list(range(dataset_size))\n",
    "\n",
    "split_train = int(train_split*dataset_size)\n",
    "\n",
    "shuffle_dataset = True\n",
    "random_seed = 46\n",
    "\n",
    "if shuffle_dataset :\n",
    "    np.random.seed(random_seed)\n",
    "    np.random.shuffle(indices)\n",
    "train_indices, val_indices = indices[:split_train], indices[split_train:]\n",
    "\n",
    "assert len(train_indices) + len(val_indices) == dataset_size\n",
    "\n",
    "train_sampler = SubsetRandomSampler(train_indices)\n",
    "val_sampler = SubsetRandomSampler(val_indices)\n",
    "\n",
    "train_dataloader = DataLoader(quora_dataset, batch_size=hparams['batch_size'], sampler=train_sampler, collate_fn=collate)\n",
    "val_dataloader = DataLoader(quora_dataset, batch_size=hparams['batch_size'], sampler=val_sampler, collate_fn=collate)\n",
    "\n",
    "print('Training Set Size {}, Validation Set Size {},'.format(len(train_indices), len(val_indices)))"
   ]
  },
  {
   "cell_type": "markdown",
   "metadata": {},
   "source": [
    "## Model "
   ]
  },
  {
   "cell_type": "code",
   "execution_count": 26,
   "metadata": {},
   "outputs": [
    {
     "data": {
      "text/plain": [
       "300"
      ]
     },
     "execution_count": 26,
     "metadata": {},
     "output_type": "execute_result"
    }
   ],
   "source": [
    "hparams['embedding_dim']"
   ]
  },
  {
   "cell_type": "code",
   "execution_count": 28,
   "metadata": {},
   "outputs": [
    {
     "name": "stderr",
     "output_type": "stream",
     "text": [
      "/tmp/ipykernel_463729/1862926709.py:17: DeprecationWarning: Call to deprecated `word_vec` (Use get_vector instead).\n",
      "  weights[lang_word_index] = torch.FloatTensor(word2vec_model.word_vec(word))\n",
      "/tmp/ipykernel_463729/1862926709.py:17: UserWarning: The given NumPy array is not writable, and PyTorch does not support non-writable tensors. This means writing to this tensor will result in undefined behavior. You may want to copy the array to protect its data or make it writable before converting it to a tensor. This type of warning will be suppressed for the rest of this program. (Triggered internally at ../torch/csrc/utils/tensor_numpy.cpp:206.)\n",
      "  weights[lang_word_index] = torch.FloatTensor(word2vec_model.word_vec(word))\n"
     ]
    },
    {
     "data": {
      "text/plain": [
       "tensor([[ 0.0000,  0.0000,  0.0000,  ...,  0.0000,  0.0000,  0.0000],\n",
       "        [ 0.1396, -0.0062,  0.2148,  ...,  0.0571,  0.0996, -0.2344],\n",
       "        [-0.0967, -0.0264,  0.0903,  ..., -0.0197,  0.2139,  0.1367],\n",
       "        ...,\n",
       "        [-0.2100, -0.3711, -0.1211,  ..., -0.0066,  0.0742, -0.0233],\n",
       "        [-0.1348, -0.0233, -0.0640,  ...,  0.2051,  0.1226, -0.1250],\n",
       "        [-0.0381, -0.1445,  0.1426,  ...,  0.0216,  0.0688,  0.0171]])"
      ]
     },
     "execution_count": 28,
     "metadata": {},
     "output_type": "execute_result"
    }
   ],
   "source": [
    "# create pretrained weights \n",
    "# instead import the pretrained_weights.pt \n",
    "pretrained_weights = create_pretrained_weights(hparams['embedding_dim'], language)\n",
    "pretrained_weights"
   ]
  },
  {
   "cell_type": "markdown",
   "metadata": {},
   "source": [
    "### Initialize PyTorch Model"
   ]
  },
  {
   "cell_type": "code",
   "execution_count": 29,
   "metadata": {},
   "outputs": [
    {
     "data": {
      "text/plain": [
       "torch.Size([23020, 300])"
      ]
     },
     "execution_count": 29,
     "metadata": {},
     "output_type": "execute_result"
    }
   ],
   "source": [
    "# pretrained_weights = torch.load('pretrained_weights.pt')\n",
    "pretrained_weights.shape"
   ]
  },
  {
   "cell_type": "code",
   "execution_count": 30,
   "metadata": {},
   "outputs": [],
   "source": [
    "# embedding net\n",
    "embedding_net = EmbeddingLSTMNet(\n",
    "    hparams['embedding_dim'],\n",
    "    hparams['hidden_dim'],\n",
    "    NUM_LAYERS,\n",
    "    EMBEDDING_REQUIRES_GRAD,\n",
    "    pretrained_weights,\n",
    "    hparams['dropout'],\n",
    "    hparams['simple'], # if simple=True --> simple model, if simple=False --> more complex model (2 linear layers plus relu)\n",
    ")\n",
    "\n",
    "# siamese model\n",
    "model = SiameseNetwork(embedding_net)"
   ]
  },
  {
   "cell_type": "code",
   "execution_count": 31,
   "metadata": {},
   "outputs": [
    {
     "data": {
      "text/plain": [
       "tensor([1.2156e-04, 6.0347e-03, 9.1936e-02, 4.5254e-02, 1.7537e-04, 2.7857e-03,\n",
       "        1.0000e+00, 9.6928e-05, 4.6809e-02, 6.3141e-05, 4.5441e-02, 1.1123e-02,\n",
       "        1.4819e-03, 5.8220e-01, 1.0000e+00, 3.4577e-04, 2.9757e-01, 8.6381e-04,\n",
       "        8.1655e-02, 2.9365e-02, 2.1654e-01, 7.7532e-06, 1.0000e+00, 4.4307e-09,\n",
       "        6.0029e-02, 6.3433e-01, 3.8987e-04, 3.9819e-04, 1.9927e-03, 5.8769e-05,\n",
       "        2.2079e-07], grad_fn=<CopySlices>)"
      ]
     },
     "execution_count": 31,
     "metadata": {},
     "output_type": "execute_result"
    }
   ],
   "source": [
    "# test model class with one batch from the dataloader \n",
    "for i, batch in enumerate(train_dataloader):\n",
    "    q1, q2 = batch['q1_token'], batch['q2_token']\n",
    "    q1_len, q2_len = batch['q1_lengths'], batch['q2_lengths']\n",
    "    y = torch.FloatTensor(batch['labels'])\n",
    "\n",
    "model(q1, q2, q1_len, q2_len)"
   ]
  },
  {
   "cell_type": "code",
   "execution_count": 32,
   "metadata": {},
   "outputs": [
    {
     "data": {
      "text/plain": [
       "SiameseNetwork(\n",
       "  (embedding): EmbeddingLSTMNet(\n",
       "    (dropout): Dropout(p=0.0, inplace=False)\n",
       "    (lstm): LSTM(300, 100, batch_first=True)\n",
       "    (fc1): Linear(in_features=100, out_features=100, bias=True)\n",
       "    (fc): Linear(in_features=100, out_features=100, bias=True)\n",
       "    (relu): ReLU()\n",
       "    (embedding): Embedding(23020, 300)\n",
       "  )\n",
       ")"
      ]
     },
     "execution_count": 32,
     "metadata": {},
     "output_type": "execute_result"
    }
   ],
   "source": [
    "model"
   ]
  },
  {
   "cell_type": "markdown",
   "metadata": {},
   "source": [
    "### Training"
   ]
  },
  {
   "cell_type": "code",
   "execution_count": 33,
   "metadata": {},
   "outputs": [
    {
     "data": {
      "text/plain": [
       "tensor([1.4000e-01, 3.0274e-02, 4.2102e-01, 6.7204e-01, 1.0576e-03, 6.9787e-03,\n",
       "        1.3792e-02, 3.7970e-01, 2.4209e-02, 9.0548e-04, 2.8880e-01, 9.5839e-03,\n",
       "        6.2036e-02, 1.9938e-02, 4.9005e-02, 4.6721e-03, 5.9027e-01, 5.7471e-04,\n",
       "        7.4806e-04, 9.6563e-02, 1.0869e-01, 1.4127e-01, 1.2455e-03, 1.1450e-01,\n",
       "        1.8759e-01, 1.7989e-02, 7.6426e-05, 4.9357e-02, 3.6331e-03, 1.2533e-02,\n",
       "        1.3850e-03], grad_fn=<CopySlices>)"
      ]
     },
     "execution_count": 33,
     "metadata": {},
     "output_type": "execute_result"
    }
   ],
   "source": [
    "# test model class with one batch from the dataloader \n",
    "for i, batch in enumerate(train_dataloader):\n",
    "    q1, q2 = batch['q1_token'], batch['q2_token']\n",
    "    q1_len, q2_len = batch['q1_lengths'], batch['q2_lengths']\n",
    "    y = torch.FloatTensor(batch['labels'])\n",
    "\n",
    "model(q1, q2, q1_len, q2_len)"
   ]
  },
  {
   "cell_type": "markdown",
   "metadata": {},
   "source": [
    "#### Initialize the ModelTrainer"
   ]
  },
  {
   "cell_type": "code",
   "execution_count": 34,
   "metadata": {},
   "outputs": [],
   "source": [
    "trainer = ModelTrainer(\n",
    "    model, \n",
    "    hparams, \n",
    "    train_dataloader, \n",
    "    val_dataloader,\n",
    "    train_indices, \n",
    "    val_indices,\n",
    "    log_to_wandb=hparams['log_to_wandb'],\n",
    ")"
   ]
  },
  {
   "cell_type": "markdown",
   "metadata": {},
   "source": [
    "#### Fit the model"
   ]
  },
  {
   "cell_type": "code",
   "execution_count": 35,
   "metadata": {},
   "outputs": [
    {
     "name": "stderr",
     "output_type": "stream",
     "text": [
      "Epoch [1/20]  Training: 100%|██████████| 1250/1250 [00:24<00:00, 50.58batch/s, train_acc=71.875 %, train_loss=0.211]\n"
     ]
    },
    {
     "name": "stdout",
     "output_type": "stream",
     "text": [
      "Epoch [1/20] Validation: val_loss: 0.1880097669629624 val_acc: 72.61 %\n"
     ]
    },
    {
     "name": "stderr",
     "output_type": "stream",
     "text": [
      "Epoch [2/20]  Training: 100%|██████████| 1250/1250 [00:25<00:00, 49.22batch/s, train_acc=62.5 %, train_loss=0.176]  \n"
     ]
    },
    {
     "name": "stdout",
     "output_type": "stream",
     "text": [
      "Epoch [2/20] Validation: val_loss: 0.17705783966821603 val_acc: 74.18 %\n"
     ]
    },
    {
     "name": "stderr",
     "output_type": "stream",
     "text": [
      "Epoch [3/20]  Training: 100%|██████████| 1250/1250 [00:24<00:00, 50.50batch/s, train_acc=78.125 %, train_loss=0.164]\n"
     ]
    },
    {
     "name": "stdout",
     "output_type": "stream",
     "text": [
      "Epoch [3/20] Validation: val_loss: 0.17157537354447971 val_acc: 75.13 %\n"
     ]
    },
    {
     "name": "stderr",
     "output_type": "stream",
     "text": [
      "Epoch [4/20]  Training: 100%|██████████| 1250/1250 [00:23<00:00, 52.28batch/s, train_acc=87.5 %, train_loss=0.156]  \n"
     ]
    },
    {
     "name": "stdout",
     "output_type": "stream",
     "text": [
      "Epoch [4/20] Validation: val_loss: 0.1683439664756909 val_acc: 76.03 %\n"
     ]
    },
    {
     "name": "stderr",
     "output_type": "stream",
     "text": [
      "Epoch [5/20]  Training: 100%|██████████| 1250/1250 [00:24<00:00, 51.62batch/s, train_acc=78.125 %, train_loss=0.151]\n"
     ]
    },
    {
     "name": "stdout",
     "output_type": "stream",
     "text": [
      "Epoch [5/20] Validation: val_loss: 0.16604827434871905 val_acc: 76.68 %\n"
     ]
    },
    {
     "name": "stderr",
     "output_type": "stream",
     "text": [
      "Epoch [6/20]  Training: 100%|██████████| 1250/1250 [00:24<00:00, 50.68batch/s, train_acc=71.875 %, train_loss=0.146]\n"
     ]
    },
    {
     "name": "stdout",
     "output_type": "stream",
     "text": [
      "Epoch [6/20] Validation: val_loss: 0.1648144563927818 val_acc: 76.87 %\n"
     ]
    },
    {
     "name": "stderr",
     "output_type": "stream",
     "text": [
      "Epoch [7/20]  Training: 100%|██████████| 1250/1250 [00:24<00:00, 51.08batch/s, train_acc=90.625 %, train_loss=0.143]\n"
     ]
    },
    {
     "name": "stdout",
     "output_type": "stream",
     "text": [
      "Epoch [7/20] Validation: val_loss: 0.1634506614634785 val_acc: 76.79 %\n"
     ]
    },
    {
     "name": "stderr",
     "output_type": "stream",
     "text": [
      "Epoch [8/20]  Training: 100%|██████████| 1250/1250 [00:24<00:00, 52.07batch/s, train_acc=81.25 %, train_loss=0.14]  \n"
     ]
    },
    {
     "name": "stdout",
     "output_type": "stream",
     "text": [
      "Epoch [8/20] Validation: val_loss: 0.16231721044538883 val_acc: 77.13 %\n"
     ]
    },
    {
     "name": "stderr",
     "output_type": "stream",
     "text": [
      "Epoch [9/20]  Training: 100%|██████████| 1250/1250 [00:24<00:00, 52.03batch/s, train_acc=90.625 %, train_loss=0.137]\n"
     ]
    },
    {
     "name": "stdout",
     "output_type": "stream",
     "text": [
      "Epoch [9/20] Validation: val_loss: 0.16184039033068637 val_acc: 77.22 %\n"
     ]
    },
    {
     "name": "stderr",
     "output_type": "stream",
     "text": [
      "Epoch [10/20]  Training: 100%|██████████| 1250/1250 [00:24<00:00, 51.95batch/s, train_acc=81.25 %, train_loss=0.134] \n"
     ]
    },
    {
     "name": "stdout",
     "output_type": "stream",
     "text": [
      "Epoch [10/20] Validation: val_loss: 0.16086045150368358 val_acc: 77.41 %\n"
     ]
    },
    {
     "name": "stderr",
     "output_type": "stream",
     "text": [
      "Epoch [11/20]  Training: 100%|██████████| 1250/1250 [00:24<00:00, 50.28batch/s, train_acc=87.5 %, train_loss=0.133] \n"
     ]
    },
    {
     "name": "stdout",
     "output_type": "stream",
     "text": [
      "Epoch [11/20] Validation: val_loss: 0.16054045216153606 val_acc: 77.55 %\n"
     ]
    },
    {
     "name": "stderr",
     "output_type": "stream",
     "text": [
      "Epoch [12/20]  Training: 100%|██████████| 1250/1250 [00:25<00:00, 49.91batch/s, train_acc=87.5 %, train_loss=0.13]  \n"
     ]
    },
    {
     "name": "stdout",
     "output_type": "stream",
     "text": [
      "Epoch [12/20] Validation: val_loss: 0.15988220376804613 val_acc: 77.58 %\n"
     ]
    },
    {
     "name": "stderr",
     "output_type": "stream",
     "text": [
      "Epoch [13/20]  Training: 100%|██████████| 1250/1250 [00:25<00:00, 48.87batch/s, train_acc=90.625 %, train_loss=0.129]\n"
     ]
    },
    {
     "name": "stdout",
     "output_type": "stream",
     "text": [
      "Epoch [13/20] Validation: val_loss: 0.15946530119870037 val_acc: 77.64 %\n"
     ]
    },
    {
     "name": "stderr",
     "output_type": "stream",
     "text": [
      "Epoch [14/20]  Training: 100%|██████████| 1250/1250 [00:24<00:00, 51.19batch/s, train_acc=71.875 %, train_loss=0.128]\n"
     ]
    },
    {
     "name": "stdout",
     "output_type": "stream",
     "text": [
      "Epoch [14/20] Validation: val_loss: 0.15911808971779795 val_acc: 77.64 %\n"
     ]
    },
    {
     "name": "stderr",
     "output_type": "stream",
     "text": [
      "Epoch [15/20]  Training: 100%|██████████| 1250/1250 [00:23<00:00, 52.31batch/s, train_acc=100.0 %, train_loss=0.126] \n"
     ]
    },
    {
     "name": "stdout",
     "output_type": "stream",
     "text": [
      "Epoch [15/20] Validation: val_loss: 0.15874504831176214 val_acc: 77.63 %\n"
     ]
    },
    {
     "name": "stderr",
     "output_type": "stream",
     "text": [
      "Epoch [16/20]  Training: 100%|██████████| 1250/1250 [00:24<00:00, 51.67batch/s, train_acc=90.625 %, train_loss=0.125]\n"
     ]
    },
    {
     "name": "stdout",
     "output_type": "stream",
     "text": [
      "Epoch [16/20] Validation: val_loss: 0.15840271974619205 val_acc: 77.96 %\n"
     ]
    },
    {
     "name": "stderr",
     "output_type": "stream",
     "text": [
      "Epoch [17/20]  Training: 100%|██████████| 1250/1250 [00:26<00:00, 46.54batch/s, train_acc=81.25 %, train_loss=0.124] \n"
     ]
    },
    {
     "name": "stdout",
     "output_type": "stream",
     "text": [
      "Epoch [17/20] Validation: val_loss: 0.15880521236898038 val_acc: 77.63 %\n"
     ]
    },
    {
     "name": "stderr",
     "output_type": "stream",
     "text": [
      "Epoch [18/20]  Training: 100%|██████████| 1250/1250 [00:23<00:00, 52.30batch/s, train_acc=81.25 %, train_loss=0.123] \n"
     ]
    },
    {
     "name": "stdout",
     "output_type": "stream",
     "text": [
      "Epoch [18/20] Validation: val_loss: 0.15796379049936424 val_acc: 77.9 %\n"
     ]
    },
    {
     "name": "stderr",
     "output_type": "stream",
     "text": [
      "Epoch [19/20]  Training: 100%|██████████| 1250/1250 [00:24<00:00, 51.99batch/s, train_acc=90.625 %, train_loss=0.122]\n"
     ]
    },
    {
     "name": "stdout",
     "output_type": "stream",
     "text": [
      "Epoch [19/20] Validation: val_loss: 0.15807454849774846 val_acc: 77.97 %\n"
     ]
    },
    {
     "name": "stderr",
     "output_type": "stream",
     "text": [
      "Epoch [20/20]  Training: 100%|██████████| 1250/1250 [00:24<00:00, 51.81batch/s, train_acc=87.5 %, train_loss=0.121]  \n"
     ]
    },
    {
     "name": "stdout",
     "output_type": "stream",
     "text": [
      "Epoch [20/20] Validation: val_loss: 0.1585721890337932 val_acc: 77.85 %\n"
     ]
    }
   ],
   "source": [
    "trainer.fit()"
   ]
  },
  {
   "cell_type": "markdown",
   "metadata": {},
   "source": [
    "### Evaluation "
   ]
  },
  {
   "cell_type": "code",
   "execution_count": 36,
   "metadata": {},
   "outputs": [
    {
     "name": "stdout",
     "output_type": "stream",
     "text": [
      "- - - Model Performance - - -\n",
      "\n",
      "Model Accuracy:  77.85\n",
      "Correct predictions: 7785, Incorret predictions: 2215\n",
      "\n"
     ]
    },
    {
     "data": {
      "image/png": "[encoded data removed]",
      "text/plain": [
       "<Figure size 640x480 with 2 Axes>"
      ]
     },
     "metadata": {},
     "output_type": "display_data"
    },
    {
     "name": "stdout",
     "output_type": "stream",
     "text": [
      "TP: 4224\n",
      "FP: 892\n",
      "FN: 1323\n",
      "TN: 3561\n",
      "\n",
      "Precision Score: 0.7291154791154791\n",
      "Recall Score: 0.7996856052099708\n",
      "F1 Score: 0.7627717682339081\n"
     ]
    },
    {
     "data": {
      "image/png": "[encoded data removed]",
      "text/plain": [
       "<Figure size 640x480 with 1 Axes>"
      ]
     },
     "metadata": {},
     "output_type": "display_data"
    }
   ],
   "source": [
    "trainer.test()"
   ]
  },
  {
   "cell_type": "markdown",
   "metadata": {},
   "source": [
    "#### Store Model"
   ]
  },
  {
   "cell_type": "code",
   "execution_count": 37,
   "metadata": {},
   "outputs": [],
   "source": [
    "# If you like to store the model, uncomment the following lines and enter filename and path \n",
    "#filename = \"model.pt\"\n",
    "#path = ROOT_PATH\n",
    "#save_model(model, path + \"/\" + filename)"
   ]
  },
  {
   "cell_type": "markdown",
   "metadata": {},
   "source": [
    "## Make predicitions\n",
    "\n",
    "Use you the previously trained model to make prediction on some samples. At the end one can input a custom question pair and see how the model is performing on it."
   ]
  },
  {
   "cell_type": "markdown",
   "metadata": {},
   "source": [
    "#### Checkout random sample from training data"
   ]
  },
  {
   "cell_type": "code",
   "execution_count": 39,
   "metadata": {},
   "outputs": [
    {
     "name": "stdout",
     "output_type": "stream",
     "text": [
      "question 1: ['how do you like jay chou music']\n",
      "question 2: ['who is jay chou']\n",
      "tokens  q1: [[10, 18, 73, 164, 15332, 15333, 50]]\n",
      "tokens  q2: [[40, 22, 15332, 15333]]\n",
      "\n",
      "\n",
      "Model predicts 0.0 --> Actual value 0.0\n",
      "Model prediction is correct :)\n",
      "\n",
      "The questions ['how do you like jay chou music'] and ['who is jay chou'] are dissimilar!\n"
     ]
    }
   ],
   "source": [
    "ind = 10\n",
    "test_sample_train = dict()\n",
    "for idx, batch in enumerate(train_dataloader):\n",
    "    if idx == ind:\n",
    "        test_sample_train['q1_text'] = [batch['q1_text'][0]]\n",
    "        test_sample_train['q2_text'] = [batch['q2_text'][0]]\n",
    "        test_sample_train['q1_token'] = [batch['q1_token'][0]]\n",
    "        test_sample_train['q2_token'] = [batch['q2_token'][0]]\n",
    "        test_sample_train['q1_lengths'] = [batch['q1_lengths'][0]]\n",
    "        test_sample_train['q2_lengths'] = [batch['q2_lengths'][0]]\n",
    "        test_sample_train['labels'] = [batch['labels'][0]]\n",
    "\n",
    "trainer.predict(test_sample_train)"
   ]
  },
  {
   "cell_type": "markdown",
   "metadata": {},
   "source": [
    "#### Checkout random sample from validation data"
   ]
  },
  {
   "cell_type": "code",
   "execution_count": 40,
   "metadata": {},
   "outputs": [
    {
     "name": "stdout",
     "output_type": "stream",
     "text": [
      "question 1: ['what are the best ways to get rid of boredom']\n",
      "question 2: ['what are some ways to kill boredom']\n",
      "tokens  q1: [[1, 2, 23, 24, 5, 6, 139, 140, 37, 3997]]\n",
      "tokens  q2: [[1, 2, 3, 5, 6, 3371, 3997]]\n",
      "\n",
      "\n",
      "Model predicts 1.0 --> Actual value 1.0\n",
      "Model prediction is correct :)\n",
      "\n",
      "The questions ['what are the best ways to get rid of boredom'] and ['what are some ways to kill boredom'] are similar!\n"
     ]
    }
   ],
   "source": [
    "ind = np.random.choice(len(val_dataloader))\n",
    "\n",
    "test_sample_val = dict()\n",
    "for idx, batch in enumerate(val_dataloader):\n",
    "    if idx == ind:\n",
    "        test_sample_val['q1_text'] = [batch['q1_text'][0]]\n",
    "        test_sample_val['q2_text'] = [batch['q2_text'][0]]\n",
    "        test_sample_val['q1_token'] = [batch['q1_token'][0]]\n",
    "        test_sample_val['q2_token'] = [batch['q2_token'][0]]\n",
    "        test_sample_val['q1_lengths'] = [batch['q1_lengths'][0]]\n",
    "        test_sample_val['q2_lengths'] = [batch['q2_lengths'][0]]\n",
    "        test_sample_val['labels'] = [batch['labels'][0]]\n",
    "\n",
    "trainer.predict(test_sample_val)"
   ]
  },
  {
   "cell_type": "markdown",
   "metadata": {},
   "source": [
    "### Predict from custom input questions"
   ]
  },
  {
   "cell_type": "code",
   "execution_count": 41,
   "metadata": {},
   "outputs": [],
   "source": [
    "default = True  # set to False to create your own inputs\n",
    "similar = False  # select False to dispaly dissimlar example\n",
    "\n",
    "if default:\n",
    "    if similar:\n",
    "        q1 = ['Is it cold today?']\n",
    "        q2 = ['Will it be cold today?']\n",
    "        label = [1.0]\n",
    "    else:\n",
    "        q1 = ['Will I pass the final?']\n",
    "        q2 = ['What will I have for dinner tonight?']\n",
    "        label = [0.0]\n",
    "else:\n",
    "    q1 = input(r'Enter your 1^st question: ')\n",
    "    q2 = input(r'Enter your 2^nd question: ')\n",
    "    label = input('label: ') # 0 for dissimilar, 1 for similar \n",
    "    q1 = [q1]\n",
    "    q2 = [q2]\n",
    "    label = [label]"
   ]
  },
  {
   "cell_type": "code",
   "execution_count": 42,
   "metadata": {},
   "outputs": [
    {
     "name": "stdout",
     "output_type": "stream",
     "text": [
      "Question Pairs:  1\n",
      "[('will i pass the final', 'what will i have for dinner tonight')]\n",
      "question 1: ['will i pass the final']\n",
      "question 2: ['what will i have for dinner tonight']\n",
      "tokens  q1: [[41, 12, 1487, 23, 1303]]\n",
      "tokens  q2: [[1, 41, 12, 165, 63, 4425, 11626]]\n",
      "\n",
      "\n",
      "Model predicts 0.0 --> Actual value 0.0\n",
      "Model prediction is correct :)\n",
      "\n",
      "The questions ['will i pass the final'] and ['what will i have for dinner tonight'] are dissimilar!\n"
     ]
    }
   ],
   "source": [
    "# prepair custom input\n",
    "# create df\n",
    "df_own = pd.DataFrame(list(zip(q1, q2, label)), columns=['question1', 'question2', 'is_duplicate'])\n",
    "# prepare data \n",
    "q_pair_own, label = convert_data_to_tuples(df_own, hparams['remove_stopwords'], hparams['stem_words'])\n",
    "print(q_pair_own)\n",
    "\n",
    "# create dataset \n",
    "own_dataset = QuoraDataset(q_pair_own, language.word2index, label)\n",
    "\n",
    "# create dataloader\n",
    "predict_dataloader = torch.utils.data.DataLoader(own_dataset, batch_size=1, collate_fn=collate)\n",
    "\n",
    "for sample in predict_dataloader:\n",
    "    test_sample = sample\n",
    "\n",
    "# predict \n",
    "trainer.predict(test_sample)"
   ]
  },
  {
   "cell_type": "markdown",
   "metadata": {},
   "source": [
    "## Important Demonstrations"
   ]
  },
  {
   "cell_type": "code",
   "execution_count": null,
   "metadata": {},
   "outputs": [
    {
     "name": "stdout",
     "output_type": "stream",
     "text": [
      "['The', 'quick', 'brown', 'foxes', 'are', 'jumping', 'over', 'the', 'lazy', 'dogs']\n",
      "[('The', 'DT'), ('quick', 'JJ'), ('brown', 'NN'), ('foxes', 'NNS'), ('are', 'VBP'), ('jumping', 'VBG'), ('over', 'IN'), ('the', 'DT'), ('lazy', 'JJ'), ('dogs', 'NNS')]\n",
      "['The', 'quick', 'brown', 'fox', 'be', 'jump', 'over', 'the', 'lazy', 'dog']\n",
      "The quick brown fox be jump over the lazy dog\n"
     ]
    },
    {
     "name": "stderr",
     "output_type": "stream",
     "text": [
      "[nltk_data] Downloading package wordnet to\n",
      "[nltk_data]     C:\\Users\\mustu\\AppData\\Roaming\\nltk_data...\n",
      "[nltk_data]   Package wordnet is already up-to-date!\n",
      "[nltk_data] Downloading package averaged_perceptron_tagger to\n",
      "[nltk_data]     C:\\Users\\mustu\\AppData\\Roaming\\nltk_data...\n",
      "[nltk_data]   Package averaged_perceptron_tagger is already up-to-\n",
      "[nltk_data]       date!\n"
     ]
    }
   ],
   "source": [
    "import nltk\n",
    "from nltk.stem import WordNetLemmatizer\n",
    "from nltk.corpus import wordnet\n",
    "\n",
    "# Download wordnet data if it's your first time using NLTK lemmatizer\n",
    "nltk.download('wordnet')\n",
    "nltk.download('averaged_perceptron_tagger')\n",
    "\n",
    "# Initialize lemmatizer\n",
    "lemmatizer = WordNetLemmatizer()\n",
    "\n",
    "def get_wordnet_pos(treebank_tag):\n",
    "    # Convert the POS tagging output of NLTK to a format that the WordNetLemmatizer can understand\n",
    "    if treebank_tag.startswith('J'):\n",
    "        return wordnet.ADJ\n",
    "    elif treebank_tag.startswith('V'):\n",
    "        return wordnet.VERB\n",
    "    elif treebank_tag.startswith('N'):\n",
    "        return wordnet.NOUN\n",
    "    elif treebank_tag.startswith('R'):\n",
    "        return wordnet.ADV\n",
    "    else:\n",
    "        return wordnet.NOUN  # Default to noun\n",
    "\n",
    "def lemmatize_sentence(sentence):\n",
    "    # Tokenize the sentence into words\n",
    "#     words = nltk.word_tokenize(sentence)\n",
    "    words = sentence.split()  # This both are same\n",
    "    print(words)\n",
    "    # Get the POS tagging of the words\n",
    "    pos_tags = nltk.pos_tag(words)\n",
    "    print(pos_tags)\n",
    "    # Lemmatize the words with their POS tagging\n",
    "    lemmatized_words = [lemmatizer.lemmatize(word, get_wordnet_pos(pos_tag)) for word, pos_tag in pos_tags]\n",
    "    print(lemmatized_words)\n",
    "    # Join the lemmatized words back into a sentence\n",
    "    lemmatized_sentence = ' '.join(lemmatized_words)\n",
    "    return lemmatized_sentence\n",
    "\n",
    "# Example usage\n",
    "sentence = \"The quick brown foxes are jumping over the lazy dogs\"\n",
    "lemmatized_sentence = lemmatize_sentence(sentence)\n",
    "print(lemmatized_sentence)  # Output: \"The quick brown fox be jump over the lazy dog\""
   ]
  },
  {
   "cell_type": "code",
   "execution_count": null,
   "metadata": {},
   "outputs": [
    {
     "data": {
      "text/plain": [
       "['I', 'am', 'mustafa', 'namliwala']"
      ]
     },
     "execution_count": 40,
     "metadata": {},
     "output_type": "execute_result"
    }
   ],
   "source": [
    "text = \"I am mustafa namliwala\"\n",
    "text.split()"
   ]
  },
  {
   "cell_type": "code",
   "execution_count": 45,
   "metadata": {},
   "outputs": [],
   "source": [
    "stops = set(stopwords.words(\"english\"))\n",
    "# stops\n",
    "# here not , no, nor are also stopwords which can completely change the sentiment of the sentence"
   ]
  },
  {
   "cell_type": "code",
   "execution_count": 94,
   "metadata": {},
   "outputs": [],
   "source": [
    "lis = [5,9,8,2,3,7,1,10,100,88]"
   ]
  },
  {
   "cell_type": "code",
   "execution_count": 101,
   "metadata": {},
   "outputs": [
    {
     "data": {
      "text/plain": [
       "array([6, 3, 4, 0, 5, 2, 1, 7, 9, 8], dtype=int64)"
      ]
     },
     "execution_count": 101,
     "metadata": {},
     "output_type": "execute_result"
    }
   ],
   "source": [
    "a = np.argsort(lis)\n",
    "a"
   ]
  },
  {
   "cell_type": "code",
   "execution_count": 98,
   "metadata": {},
   "outputs": [
    {
     "data": {
      "text/plain": [
       "array([  1,   2,   3,   5,   7,   8,   9,  10,  88, 100])"
      ]
     },
     "execution_count": 98,
     "metadata": {},
     "output_type": "execute_result"
    }
   ],
   "source": [
    "np.sort(lis)"
   ]
  },
  {
   "cell_type": "code",
   "execution_count": 103,
   "metadata": {},
   "outputs": [
    {
     "name": "stdout",
     "output_type": "stream",
     "text": [
      "1\n",
      "2\n",
      "3\n",
      "5\n",
      "7\n",
      "8\n",
      "9\n",
      "10\n",
      "88\n",
      "100\n"
     ]
    }
   ],
   "source": [
    "for i in a:\n",
    "    print(lis[i])"
   ]
  },
  {
   "cell_type": "code",
   "execution_count": null,
   "metadata": {},
   "outputs": [],
   "source": [
    "import torch\n",
    "from torch.nn.utils.rnn import pack_padded_sequence\n",
    "\n",
    "# Suppose we have the following padded batch of sequences:\n",
    "seqs = torch.tensor([\n",
    "    [1, 2, 3, 4, 5],  # length: 5\n",
    "    [6, 7, 8, 0, 0],  # length: 3, padded with zeros\n",
    "    [9, 10, 0, 0, 0]  # length: 2, padded with zeros\n",
    "], dtype=torch.float)\n",
    "\n",
    "lengths = torch.tensor([5, 3, 2])  # Lengths of the sequences before padding\n",
    "\n",
    "# Packing the padded sequences\n",
    "packed_seqs = pack_padded_sequence(seqs, lengths, batch_first=True, enforce_sorted=False)\n",
    "\n",
    "# Now, packed_seqs is a PackedSequence object with two fields: .data and .batch_sizes\n",
    "print(packed_seqs.data)\n",
    "# Output: tensor([1., 6., 9., 2., 7., 10., 3., 8., 4., 5.])\n",
    "\n",
    "print(packed_seqs.batch_sizes)\n",
    "# Output: tensor([3, 3, 2, 1, 1])"
   ]
  }
 ],
 "metadata": {
  "kernelspec": {
   "display_name": "Python 3 (ipykernel)",
   "language": "python",
   "name": "python3"
  },
  "language_info": {
   "codemirror_mode": {
    "name": "ipython",
    "version": 3
   },
   "file_extension": ".py",
   "mimetype": "text/x-python",
   "name": "python",
   "nbconvert_exporter": "python",
   "pygments_lexer": "ipython3",
   "version": "3.9.12"
  }
 },
 "nbformat": 4,
 "nbformat_minor": 2
}
